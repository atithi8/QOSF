{
 "cells": [
  {
   "cell_type": "markdown",
   "metadata": {},
   "source": [
    "# Task 1\n",
    "QOSF screening task"
   ]
  },
  {
   "cell_type": "code",
   "execution_count": 307,
   "metadata": {},
   "outputs": [],
   "source": [
    "import numpy as np\n",
    "import matplotlib.pyplot as plt\n",
    "from qiskit import QuantumCircuit, QuantumRegister, ClassicalRegister\n",
    "from qiskit.circuit.library import RXGate, RZGate\n",
    "from qiskit import Aer\n",
    "from qiskit import execute\n",
    "from qiskit.tools.jupyter import *\n",
    "from qiskit.visualization import *\n",
    "import itertools\n",
    "\n",
    "from qiskit_textbook.tools import array_to_latex\n"
   ]
  },
  {
   "cell_type": "markdown",
   "metadata": {},
   "source": [
    "# Random error probabilities"
   ]
  },
  {
   "cell_type": "code",
   "execution_count": 308,
   "metadata": {},
   "outputs": [],
   "source": [
    "\n",
    "perr_list=[0.1, 0.45, 0.45] \n",
    "# perr_list=[0.8, 0.1, 0.1] \n",
    "\n",
    "\n",
    "#''' perr_list=p[I], p[X], p[Z] '''"
   ]
  },
  {
   "cell_type": "markdown",
   "metadata": {},
   "source": [
    "Both qubits can have random errors.\n",
    "Asssumptions: We make sure that the encoder qubits + the original ones don't have more than 1 (1 in every 3 at max). "
   ]
  },
  {
   "cell_type": "code",
   "execution_count": 309,
   "metadata": {},
   "outputs": [],
   "source": [
    "def error_single(qc,qubit,pid=0.0,px=0.0,pz=0.0,code='None'):\n",
    "    ''' \n",
    "     Args:\n",
    "     pid, px, pz: Probability of each errors\n",
    "     \n",
    "    '''\n",
    "    \n",
    "    \n",
    "        \n",
    "    if code=='None':\n",
    "        #print(\"Original_qubit\")\n",
    "        if px+pz+pid!=1.0:\n",
    "            pid=1.0-(px+pz)\n",
    "        gate_index=np.random.choice([0,1,2],p=[pid,px,pz])\n",
    "        if gate_index==0:\n",
    "            print('Id',gate_index)\n",
    "            qc.i(qubit) \n",
    "        if gate_index==1:\n",
    "            print('x',gate_index)\n",
    "            qc.x(qubit)\n",
    "\n",
    "        if gate_index==2:\n",
    "            print('z',gate_index)\n",
    "            qc.z(qubit)\n",
    "\n",
    "\n",
    "    if code=='cd_anc':\n",
    "        #print(\"Bit_qubit0\")\n",
    "        if px+pz+pid!=1.0:\n",
    "            pid=1.0-(px+pz)\n",
    "        gate_index=np.random.choice([0,1,2],p=[pid,px,pz])\n",
    "        if gate_index==0:\n",
    "            print('Id',gate_index)\n",
    "            qc.i(qcb[qubit]) \n",
    "        if gate_index==1:\n",
    "            print('x',gate_index)\n",
    "            qc.x(qcb[qubit]) \n",
    "\n",
    "        if gate_index==2:\n",
    "            print('z',gate_index)\n",
    "            qc.z(qcb[qubit]) \n",
    "            \n",
    "    \n",
    "    \n",
    "\n",
    "    if code=='cd_anc1':\n",
    "        #print(\"Bit_qubit1\")\n",
    "        if px+pz+pid!=1.0:\n",
    "            pid=1.0-(px+pz)\n",
    "        gate_index=np.random.choice([0,1,2],p=[pid,px,pz])\n",
    "        if gate_index==0:\n",
    "            print('Id',gate_index)\n",
    "            qc.i(qcb1[qubit]) \n",
    "        if gate_index==1:\n",
    "            print('x',gate_index)\n",
    "            qc.x(qcb1[qubit]) \n",
    "\n",
    "        if gate_index==2:\n",
    "            print('z',gate_index)\n",
    "            qc.z(qcb1[qubit]) \n",
    "\n",
    "    if code=='cd_anc_out':\n",
    "        #print(\"Out_qubit1\")\n",
    "        if px+pz+pid!=1.0:\n",
    "            pid=1.0-(px+pz)\n",
    "        gate_index=np.random.choice([0,1,2],p=[pid,px,pz])\n",
    "        if gate_index==0:\n",
    "            print('Id',gate_index)\n",
    "            qc.i(qcb_out[qubit]) \n",
    "        if gate_index==1:\n",
    "            print('x',gate_index)\n",
    "            qc.x(qcb_out[qubit]) \n",
    "\n",
    "        if gate_index==2:\n",
    "            print('z',gate_index)\n",
    "            qc.z(qcb_out[qubit]) \n",
    "\n",
    "\n",
    "        "
   ]
  },
  {
   "cell_type": "code",
   "execution_count": 310,
   "metadata": {},
   "outputs": [],
   "source": [
    "\n",
    "def error_channel(qc, qubit0='Y', qubit1='Y'):\n",
    "    ''' Randomly selects unitary error for both qubits\n",
    "    '''\n",
    "\n",
    "    if qubit0=='Y':\n",
    "        # ########################################################\n",
    "        error_single(qc,0, pid=perr_list[0], px=perr_list[1],\\\n",
    "                     pz=perr_list[2])\n",
    "\n",
    "\n",
    "        perr_list1=perr_list\n",
    "        perr_list1[0]=1.0-perr_list[2]\n",
    "        perr_list1[1]=0.0\n",
    "        #perr_list1[2]=perr_list[2]\n",
    "        \n",
    "        ###\n",
    "        error_single(qc,0, pid=perr_list1[0], px=perr_list1[1],\\\n",
    "                     pz=perr_list1[2], code='cd_anc')\n",
    "\n",
    "\n",
    "        error_single(qc,1, pid=perr_list1[0], px=perr_list1[1],\\\n",
    "                     pz=perr_list1[2], code='cd_anc')\n",
    "\n",
    "        ###\n",
    "        perr_list3=perr_list\n",
    "        perr_list3[0]=1.0-perr_list[1]\n",
    "        perr_list3[2]=0.0\n",
    "        \n",
    "        error_single(qc,0, pid=perr_list1[0], px=perr_list1[1],\\\n",
    "                    pz=perr_list1[2], code='cd_anc_out')\n",
    "\n",
    "\n",
    "        error_single(qc,1, pid=perr_list1[0], px=perr_list1[1],\\\n",
    "                    pz=perr_list1[2], code='cd_anc_out')\n",
    "\n",
    "\n",
    "\n",
    "    if qubit1=='Y':\n",
    "        ########################################################\n",
    "        error_single(qc,1, pid=perr_list[0], px=perr_list[1],\\\n",
    "                     pz=perr_list[2] )\n",
    "\n",
    "        perr_list2=perr_list\n",
    "        perr_list2[0]=1.0-perr_list[1]\n",
    "        perr_list2[2]=0.0\n",
    "        #perr_list2[1]=perr_list[1]\n",
    "\n",
    "        \n",
    "        ###\n",
    "        error_single(qc,0, pid=perr_list2[0], px=perr_list2[1],\\\n",
    "                 pz=perr_list2[2],code='cd_anc1')\n",
    "\n",
    "        error_single(qc,1, pid=perr_list2[0], px=perr_list2[1],\\\n",
    "                 pz=perr_list2[2], code='cd_anc1')\n",
    "        ###\n",
    "        ########################################################"
   ]
  },
  {
   "cell_type": "code",
   "execution_count": 311,
   "metadata": {},
   "outputs": [],
   "source": [
    "def check_error0(qc, perr_list0=[1.0,0.0,0.0],perr_list1=[1.0,0.0,0.0],perr_list2=[1.0,0.0,0.0]):\n",
    "    ''' Fixed error'''\n",
    "    # ########################################################\n",
    "    error_single(qc,0, pid=perr_list0[0], px=perr_list0[1],\\\n",
    "             pz=perr_list0[2])\n",
    "\n",
    "\n",
    "    ###\n",
    "    error_single(qc,0, pid=perr_list1[0], px=perr_list1[1],\\\n",
    "             pz=perr_list1[2], code='cd_anc')\n",
    "\n",
    "\n",
    "    error_single(qc,1, pid=perr_list2[0], px=perr_list2[1],\\\n",
    "             pz=perr_list2[2], code='cd_anc')\n",
    "\n",
    "\n"
   ]
  },
  {
   "cell_type": "code",
   "execution_count": 312,
   "metadata": {},
   "outputs": [],
   "source": [
    "def check_error1(qc, perr_list0=[1.0,0.0,0.0],perr_list1=[1.0,0.0,0.0],perr_list2=[1.0,0.0,0.0]):\n",
    "    ''' Fixed error'''\n",
    "    ########################################################\n",
    "    error_single(qc,1, pid=perr_list0[0], px=perr_list0[1],\\\n",
    "             pz=perr_list0[2])\n",
    "\n",
    "\n",
    "    ###\n",
    "    error_single(qc,0, pid=perr_list1[0], px=perr_list1[1],\\\n",
    "             pz=perr_list1[2],code='cd_anc1')\n",
    "\n",
    "    error_single(qc,1, pid=perr_list2[0], px=perr_list2[1],\\\n",
    "             pz=perr_list2[2], code='cd_anc1')\n",
    "    ###\n",
    "    ########################################################\n",
    "\n"
   ]
  },
  {
   "cell_type": "code",
   "execution_count": 313,
   "metadata": {
    "scrolled": true
   },
   "outputs": [
    {
     "name": "stdout",
     "output_type": "stream",
     "text": [
      "z 2\n",
      "z 2\n",
      "z 2\n",
      "Id 0\n",
      "Id 0\n",
      "Id 0\n",
      "Id 0\n",
      "Id 0\n"
     ]
    },
    {
     "data": {
      "text/html": [
       "<pre style=\"word-wrap: normal;white-space: pre;background: #fff0;line-height: 1.1;font-family: &quot;Courier New&quot;,Courier,monospace\">            ┌───┐               ┌───┐                              ┌───┐     »\n",
       "       q_0: ┤ H ├──■─────────■──┤ H ├────────────■──────────────■──┤ Z ├──■──»\n",
       "            └───┘  │         │  ├───┤            │              │  ├───┤  │  »\n",
       "       q_1: ──■────┼────■────┼──┤ I ├───────■────┼─────────■────┼──┤ X ├──┼──»\n",
       "              │  ┌─┴─┐  │    │  ├───┤┌───┐  │    │  ┌───┐  │    │  └─┬─┘  │  »\n",
       "    enc0_0: ──┼──┤ X ├──┼────┼──┤ H ├┤ Z ├──┼────┼──┤ H ├──┼────┼────┼────┼──»\n",
       "              │  └───┘  │  ┌─┴─┐├───┤├───┤  │    │  ├───┤  │    │    │    │  »\n",
       "    enc0_1: ──┼─────────┼──┤ X ├┤ H ├┤ Z ├──┼────┼──┤ H ├──┼────┼────┼────┼──»\n",
       "              │         │  └───┘└───┘└───┘  │  ┌─┴─┐├───┤  │    │    │  ┌─┴─┐»\n",
       "enc_out0_0: ──┼─────────┼───────────────────┼──┤ X ├┤ I ├──┼────┼────┼──┤ X ├»\n",
       "              │         │                   │  └───┘└───┘  │  ┌─┴─┐  │  ├───┤»\n",
       "enc_out0_1: ──┼─────────┼───────────────────┼──────────────┼──┤ X ├──┼──┤ I ├»\n",
       "            ┌─┴─┐┌───┐  │                 ┌─┴─┐            │  └───┘  │  └───┘»\n",
       "    enc1_0: ┤ X ├┤ I ├──┼─────────────────┤ X ├────────────┼─────────■───────»\n",
       "            └───┘└───┘┌─┴─┐┌───┐          └───┘          ┌─┴─┐       │       »\n",
       "    enc1_1: ──────────┤ X ├┤ I ├─────────────────────────┤ X ├───────■───────»\n",
       "                      └───┘└───┘                         └───┘               »\n",
       "       c: 2/═════════════════════════════════════════════════════════════════»\n",
       "                                                                             »\n",
       "«                 ┌───┐┌───┐          ┌───┐     \n",
       "«       q_0: ──■──┤ X ├┤ H ├──■────■──┤ X ├──■──\n",
       "«              │  └─┬─┘└───┘  │    │  └─┬─┘┌─┴─┐\n",
       "«       q_1: ──┼────┼─────────┼────┼────┼──┤ X ├\n",
       "«              │    │       ┌─┴─┐  │    │  └───┘\n",
       "«    enc0_0: ──┼────┼───────┤ X ├──┼────■───────\n",
       "«              │    │       └───┘┌─┴─┐  │       \n",
       "«    enc0_1: ──┼────┼────────────┤ X ├──■───────\n",
       "«              │    │            └───┘          \n",
       "«enc_out0_0: ──┼────■───────────────────────────\n",
       "«            ┌─┴─┐  │                           \n",
       "«enc_out0_1: ┤ X ├──■───────────────────────────\n",
       "«            └───┘                              \n",
       "«    enc1_0: ───────────────────────────────────\n",
       "«                                               \n",
       "«    enc1_1: ───────────────────────────────────\n",
       "«                                               \n",
       "«       c: 2/═══════════════════════════════════\n",
       "«                                               </pre>"
      ],
      "text/plain": [
       "            ┌───┐               ┌───┐                              ┌───┐     »\n",
       "       q_0: ┤ H ├──■─────────■──┤ H ├────────────■──────────────■──┤ Z ├──■──»\n",
       "            └───┘  │         │  ├───┤            │              │  ├───┤  │  »\n",
       "       q_1: ──■────┼────■────┼──┤ I ├───────■────┼─────────■────┼──┤ X ├──┼──»\n",
       "              │  ┌─┴─┐  │    │  ├───┤┌───┐  │    │  ┌───┐  │    │  └─┬─┘  │  »\n",
       "    enc0_0: ──┼──┤ X ├──┼────┼──┤ H ├┤ Z ├──┼────┼──┤ H ├──┼────┼────┼────┼──»\n",
       "              │  └───┘  │  ┌─┴─┐├───┤├───┤  │    │  ├───┤  │    │    │    │  »\n",
       "    enc0_1: ──┼─────────┼──┤ X ├┤ H ├┤ Z ├──┼────┼──┤ H ├──┼────┼────┼────┼──»\n",
       "              │         │  └───┘└───┘└───┘  │  ┌─┴─┐├───┤  │    │    │  ┌─┴─┐»\n",
       "enc_out0_0: ──┼─────────┼───────────────────┼──┤ X ├┤ I ├──┼────┼────┼──┤ X ├»\n",
       "              │         │                   │  └───┘└───┘  │  ┌─┴─┐  │  ├───┤»\n",
       "enc_out0_1: ──┼─────────┼───────────────────┼──────────────┼──┤ X ├──┼──┤ I ├»\n",
       "            ┌─┴─┐┌───┐  │                 ┌─┴─┐            │  └───┘  │  └───┘»\n",
       "    enc1_0: ┤ X ├┤ I ├──┼─────────────────┤ X ├────────────┼─────────■───────»\n",
       "            └───┘└───┘┌─┴─┐┌───┐          └───┘          ┌─┴─┐       │       »\n",
       "    enc1_1: ──────────┤ X ├┤ I ├─────────────────────────┤ X ├───────■───────»\n",
       "                      └───┘└───┘                         └───┘               »\n",
       "       c: 2/═════════════════════════════════════════════════════════════════»\n",
       "                                                                             »\n",
       "«                 ┌───┐┌───┐          ┌───┐     \n",
       "«       q_0: ──■──┤ X ├┤ H ├──■────■──┤ X ├──■──\n",
       "«              │  └─┬─┘└───┘  │    │  └─┬─┘┌─┴─┐\n",
       "«       q_1: ──┼────┼─────────┼────┼────┼──┤ X ├\n",
       "«              │    │       ┌─┴─┐  │    │  └───┘\n",
       "«    enc0_0: ──┼────┼───────┤ X ├──┼────■───────\n",
       "«              │    │       └───┘┌─┴─┐  │       \n",
       "«    enc0_1: ──┼────┼────────────┤ X ├──■───────\n",
       "«              │    │            └───┘          \n",
       "«enc_out0_0: ──┼────■───────────────────────────\n",
       "«            ┌─┴─┐  │                           \n",
       "«enc_out0_1: ┤ X ├──■───────────────────────────\n",
       "«            └───┘                              \n",
       "«    enc1_0: ───────────────────────────────────\n",
       "«                                               \n",
       "«    enc1_1: ───────────────────────────────────\n",
       "«                                               \n",
       "«       c: 2/═══════════════════════════════════\n",
       "«                                               "
      ]
     },
     "execution_count": 313,
     "metadata": {},
     "output_type": "execute_result"
    }
   ],
   "source": [
    "n_qubits=2\n",
    "tot_qubit=2\n",
    "qr = QuantumRegister(n_qubits,'q')\n",
    "cr = ClassicalRegister(n_qubits, 'c')\n",
    "#qc = QuantumCircuit(qr, cr)\n",
    "\n",
    "\n",
    "qcb=QuantumRegister(2, 'enc0')\n",
    "\n",
    "qcb_out=QuantumRegister(2, 'enc_out0')\n",
    "\n",
    "qcb1=QuantumRegister(2, 'enc1')\n",
    "\n",
    "# qcb_out1=QuantumRegister(2, 'enc_out1')\n",
    "# ccb=ClassicalRegister(2, 'cbitenc')\n",
    "\n",
    "\n",
    "qc = QuantumCircuit(qr, qcb,qcb_out, qcb1, cr) #, qcb_out1\n",
    "\n",
    "\n",
    "\n",
    "# error qubit 1\n",
    "\n",
    "\n",
    "qc.h(0)\n",
    "\n",
    "\n",
    "###### ENCODER ######################\n",
    "\n",
    "\n",
    "# Sign flip correction (needed only for the first qubit)\n",
    "qc.cx(qr[0], qcb[0:2])\n",
    "\n",
    "qc.h(qr[0])\n",
    "for i in range(2):\n",
    "    qc.h(qcb[i])\n",
    "\n",
    "\n",
    "# Bit flip correction needed only for the second gate\n",
    "qc.cx(qr[1], qcb1[0:2])\n",
    "\n",
    "\n",
    "\n",
    "# Bit flip correction needed only for the second gate\n",
    "qc.cx(qr[0], qcb_out[0:2])\n",
    "\n",
    "\n",
    "\n",
    "####### Random Error ##################\n",
    "error_channel(qc)\n",
    "''' Randomly selects unitary error'''\n",
    "\n",
    "# ### #####################   ###########\n",
    "\n",
    "\n",
    "'''\n",
    "\n",
    "# ### Fixed error VERIFICATION  #####\n",
    "\n",
    "check_error0(qc,perr_list0=[1.0, 0.0, 0.0 ],perr_list1=[1.0,0.0, 0.0])\n",
    "#check_error0(qc,perr_list0=[0.0, 1.0, 0.0 ],perr_list1=[1.0,0.0, 0.0])\n",
    "#check_error0(qc,perr_list0=[0.0, 0.0, 1.0 ],perr_list1=[1.0,0.0, 0.0])\n",
    "\n",
    "# check_error1(qc,perr_list0=[1.0, 0.0, 0.0 ],perr_list1=[1.0,0.0, 0.0])\n",
    "# check_error1(qc,perr_list0=[0.0, 1.0, 0.0 ],perr_list1=[1.0,0.0, 0.0])\n",
    "# check_error1(qc,perr_list0=[0.0, 0.0, 1.0 ],perr_list1=[1.0,0.0, 0.0])\n",
    "\n",
    "'''\n",
    "\n",
    "\n",
    "# bit flip decoder for qubit 1\n",
    "qc.cx(qr[0], qcb_out[0:2])\n",
    "qc.ccx(qcb_out[0],qcb_out[1],qr[0])\n",
    "\n",
    "\n",
    "\n",
    "######### decoder #####################\n",
    "\n",
    "# sign flip decoder for qubit 1\n",
    "qc.h(qr[0])\n",
    "for i in range(2):\n",
    "    qc.h(qcb[i])\n",
    "qc.cx(qr[0], qcb[0:2])\n",
    "qc.ccx(qcb[0],qcb[1],qr[0])\n",
    "\n",
    "\n",
    "\n",
    "# bit flip decoder for qubit 1\n",
    "qc.cx(qr[1], qcb1[0:2])\n",
    "qc.ccx(qcb1[0],qcb1[1],qr[1])\n",
    "\n",
    "### #####################   ###########\n",
    "\n",
    "\n",
    "########### Finally CNOT on the original 2 qubits\n",
    "\n",
    "\n",
    "qc.cx(0,1)\n",
    "\n",
    "\n",
    "\n",
    "qc.draw()\n"
   ]
  },
  {
   "cell_type": "code",
   "execution_count": 314,
   "metadata": {},
   "outputs": [
    {
     "data": {
      "image/png": "[encoded data removed]",
      "text/plain": [
       "<Figure size 1415.74x565.88 with 1 Axes>"
      ]
     },
     "execution_count": 314,
     "metadata": {},
     "output_type": "execute_result"
    }
   ],
   "source": [
    "qc.draw('mpl')"
   ]
  },
  {
   "cell_type": "markdown",
   "metadata": {},
   "source": [
    "# Measurement\n",
    "Bell basis measurement. However computational basis mesurement can also be done just by commenting the next block of code where cx and h are applied in reverse order."
   ]
  },
  {
   "cell_type": "markdown",
   "metadata": {},
   "source": [
    "Comp $\\to$ Bell <br>\n",
    "$|00 \\rangle+ |11 \\rangle$ $\\to$ $ |00 \\rangle$ <br>\n",
    "$|00 \\rangle- |11 \\rangle$ $\\to$ $ |10 \\rangle$<br>\n",
    "$|01 \\rangle+ |10 \\rangle$ $\\to$ $ |01 \\rangle$<br>\n",
    "$|01 \\rangle- |10 \\rangle$ $\\to$ $ |11 \\rangle$ <br>\n",
    "\n",
    "We are expected to get back $\\mathbf{|00 \\rangle}$ in bell basis for most runs since we do not correct for more than one error gates in each 3 encoding of the respective qubits. (This occurs with low probablity for aprropriate probablities in the random unitary noise section)"
   ]
  },
  {
   "cell_type": "code",
   "execution_count": 315,
   "metadata": {},
   "outputs": [
    {
     "data": {
      "text/plain": [
       "<qiskit.circuit.instructionset.InstructionSet at 0x7ff0e9a2f7d0>"
      ]
     },
     "execution_count": 315,
     "metadata": {},
     "output_type": "execute_result"
    }
   ],
   "source": [
    "########### Finally reversing bell state gen ######\n",
    "########## Bell basis measurement ########### \n",
    "\n",
    "qc.cx(qr[0],qr[1])\n",
    "qc.h(qr[0])\n",
    "\n",
    "\n",
    "##### This finally tells us if we have corrected the sign flip error as well"
   ]
  },
  {
   "cell_type": "code",
   "execution_count": 316,
   "metadata": {
    "scrolled": true
   },
   "outputs": [
    {
     "data": {
      "image/png": "[encoded data removed]",
      "text/plain": [
       "<Figure size 504x360 with 1 Axes>"
      ]
     },
     "execution_count": 316,
     "metadata": {},
     "output_type": "execute_result"
    }
   ],
   "source": [
    "\n",
    "\n",
    "qc.measure(qr,cr)\n",
    "\n",
    "# qc.measure_all()\n",
    "qasm_simulator = Aer.get_backend('qasm_simulator')\n",
    "shots = 1024\n",
    "\n",
    "# # Let's see the result\n",
    "# backend = Aer.get_backend('statevector_simulator')\n",
    "# final_state = execute(qc,backend).result().get_statevector()\n",
    "\n",
    "\n",
    "results = execute(qc, backend=qasm_simulator, shots=shots).result()\n",
    "\n",
    "\n",
    "answer = results.get_counts()\n",
    "plot_histogram(answer)"
   ]
  },
  {
   "cell_type": "code",
   "execution_count": 317,
   "metadata": {},
   "outputs": [
    {
     "data": {
      "image/png": "[encoded data removed]",
      "text/plain": [
       "<Figure size 1596.34x565.88 with 1 Axes>"
      ]
     },
     "execution_count": 317,
     "metadata": {},
     "output_type": "execute_result"
    }
   ],
   "source": [
    "# Example of the entire circuit with bell measurement set up\n",
    "qc.draw('mpl')"
   ]
  },
  {
   "cell_type": "markdown",
   "metadata": {},
   "source": [
    " Sanity checks:\n",
    "When we have pauli X error in the second qubit, the result without the decoder is $|01 \\rangle+|10 \\rangle$. However, with the decoder we get back the bell state. <br>\n",
    "\n",
    "Since H gate gives $|0\\rangle+|1\\rangle$ state having bit flip gives $|1\\rangle+|0\\rangle$ which is the same, hence in reality we don't need the bit flip correction for the first qubit.  But since we have a sign flip correction code, bit flip is transformed into phase flip thus needing additional correction code<br>\n",
    "\n",
    "------------------------------------------------------------------\n",
    "\n",
    "\n",
    "When we have pauli Z error in the first, the result without the decoder is $|00 \\rangle-|11 \\rangle$. However, with the decoder we get back the bell state. <br>\n",
    "\n",
    "Since phase flip acts trivially on the second qubit, we dont need any phase correction.\n",
    "\n"
   ]
  },
  {
   "cell_type": "markdown",
   "metadata": {},
   "source": [
    "|      | Qubit 0 | Qubit 1 | \n",
    "| ----- | --- | --- |\n",
    "| <b>Error | Identity | Identity |\n",
    "|       | Pauli-X | Pauli-X |\n",
    "|       | Pauli-Z | Pauli-Z |\n",
    "|       | Pauli-X | Pauli-Z |\n",
    "|       | Pauli-Z | Pauli-X |\n",
    "|       | Identity  | Pauli-X |\n",
    "|       | Identity  | Pauli-Z |\n",
    "|       |Pauli-X | Identity  | \n",
    "|       |Pauli-Z | Identity  | "
   ]
  },
  {
   "cell_type": "markdown",
   "metadata": {},
   "source": [
    "\n",
    "|      | Phase Code 0 | Bit Code 1 | \n",
    "| ----- | --- | --- |\n",
    "| <b> Correction |Nothing (Identity) | Nothing (Identity) |\n",
    "|       | Additional bit flip code| Corrects |\n",
    "|       | Corrects | Does Nothing |\n",
    "|       |  Additional bit flip code| Does Nothing |\n",
    "|       | Corrects | Corrects |\n",
    "|       | Nothing (Identity)  | Corrects |\n",
    "|       | Nothing (Identity)  | Does Nothing |\n",
    "|       |  Additional bit flip code | Nothing (Identity)  | \n",
    "|       |Corrects| Nothing (Identity) | "
   ]
  },
  {
   "cell_type": "markdown",
   "metadata": {},
   "source": [
    " Additional bit flip code: We add an bit flip encoder and decoder within the outer phase flip code to make sure the correction happens when there is a bit flip in qubit 0. In total we use 2+2+2=6 encoder qubits"
   ]
  },
  {
   "cell_type": "code",
   "execution_count": null,
   "metadata": {},
   "outputs": [],
   "source": []
  }
 ],
 "metadata": {
  "kernelspec": {
   "display_name": "Python 3",
   "language": "python",
   "name": "python3"
  },
  "language_info": {
   "codemirror_mode": {
    "name": "ipython",
    "version": 3
   },
   "file_extension": ".py",
   "mimetype": "text/x-python",
   "name": "python",
   "nbconvert_exporter": "python",
   "pygments_lexer": "ipython3",
   "version": "3.7.7"
  }
 },
 "nbformat": 4,
 "nbformat_minor": 4
}
