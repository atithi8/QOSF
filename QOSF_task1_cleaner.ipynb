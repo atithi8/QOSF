{
 "cells": [
  {
   "cell_type": "markdown",
   "metadata": {},
   "source": [
    "# Task 1\n",
    "QOSF screening tasks"
   ]
  },
  {
   "cell_type": "code",
   "execution_count": 1,
   "metadata": {},
   "outputs": [],
   "source": [
    "import numpy as np\n",
    "import matplotlib.pyplot as plt\n",
    "from qiskit import QuantumCircuit, QuantumRegister, ClassicalRegister\n",
    "from qiskit.circuit.library import RXGate, RZGate\n",
    "from qiskit import Aer\n",
    "from qiskit import execute\n",
    "from qiskit.tools.jupyter import *\n",
    "from qiskit.visualization import *\n",
    "import itertools"
   ]
  },
  {
   "cell_type": "code",
   "execution_count": 2,
   "metadata": {},
   "outputs": [],
   "source": [
    "#4 Qubit quantum circuit for the green even blocks\n",
    "#Curious about scaling up to bigger circuit i.e. larger n\n",
    "\n",
    "\n",
    "\n",
    "def Even_block(qc,theta_list):\n",
    "    ''' \n",
    "     Args:\n",
    "        theta_list: list of z-axis rotations.\n",
    "        #Need to accomodate for array as well\n",
    "        \n",
    "        qc: Input circuit\n",
    "\n",
    "     Returns:\n",
    "        Circuit after unitary evolution\n",
    "    '''\n",
    "    #if type(theta_list)=='nd.array'\n",
    "    #For now, to remove amb: use 4 instead\n",
    "    \n",
    "    for i in range(4):\n",
    "        # i is the qubit index now \n",
    "        qc.rz(theta_list[i], i)\n",
    "    \n",
    "    #Double gates are cz gates for even blocks \n",
    "    for pair in itertools.combinations([0,1,2,3],2):\n",
    "        #print(pair)\n",
    "        qc.cz(pair[0],pair[1])\n",
    "    \n",
    "\n",
    "    return qc\n",
    "\n"
   ]
  },
  {
   "cell_type": "code",
   "execution_count": 3,
   "metadata": {},
   "outputs": [],
   "source": [
    "def Odd_block(qc,theta_list):\n",
    "    \n",
    "    ''' \n",
    "     Args:\n",
    "        theta_list: list of x-axis rotations.\n",
    "        Length \n",
    "        qc: Input circuit\n",
    "\n",
    "     Returns:\n",
    "        Circuit after unitary evolution\n",
    "    '''\n",
    "\n",
    "    \n",
    "    #Double gates are cx gates for even blocks \n",
    "    for i in range(len(theta_list)):\n",
    "\n",
    "        qc.rx(theta_list[i], i)\n",
    "    \n",
    "\n",
    "\n",
    "    return qc\n"
   ]
  },
  {
   "cell_type": "markdown",
   "metadata": {},
   "source": [
    "# Initialization"
   ]
  },
  {
   "cell_type": "code",
   "execution_count": 4,
   "metadata": {},
   "outputs": [],
   "source": [
    "n_qubits=4\n",
    "qr = QuantumRegister(n_qubits)\n",
    "cr = ClassicalRegister(n_qubits)\n",
    "base_circuit = QuantumCircuit(qr, cr)\n"
   ]
  },
  {
   "cell_type": "code",
   "execution_count": 5,
   "metadata": {},
   "outputs": [],
   "source": [
    "#Initialize variational parameters\n",
    "theta_list_even=np.random.uniform(0,2*np.pi,n_qubits)\n",
    "#theta_list_even\n",
    "\n",
    "theta_list_odd=np.random.uniform(0,2*np.pi,n_qubits)\n",
    "#theta_list_odd\n"
   ]
  },
  {
   "cell_type": "markdown",
   "metadata": {},
   "source": [
    "# Minimum Distance \n",
    "First define a distance function <br>\n",
    "Then study the variations so as to report the minimum for a fixed L <br>\n",
    "\n",
    "\n"
   ]
  },
  {
   "cell_type": "code",
   "execution_count": 6,
   "metadata": {},
   "outputs": [],
   "source": [
    "#print(random_statevector(4))\n",
    "\n",
    "def Norm(psi, Phi):\n",
    "\n",
    "    ''' \n",
    "     Args:\n",
    "        Phi: A random state with the dimensions of the state.\n",
    "        Psi: Input state\n",
    "\n",
    "     Returns:\n",
    "        L2 norm of the difference of the two state\n",
    "    '''\n",
    "    return np.sum(np.square(np.abs(psi-Phi)))\n",
    "       "
   ]
  },
  {
   "cell_type": "markdown",
   "metadata": {},
   "source": [
    " To find right set of variational parameters using grid search \n",
    " or gradient descent\n"
   ]
  },
  {
   "cell_type": "markdown",
   "metadata": {},
   "source": [
    "Since the parameter space of grid search is too large and hence for multilayers will take a long time, is it a better idea to do a gradient search? <br>"
   ]
  },
  {
   "cell_type": "markdown",
   "metadata": {},
   "source": [
    "# Gradient Descent\n",
    "Starting with single layer"
   ]
  },
  {
   "cell_type": "code",
   "execution_count": 19,
   "metadata": {},
   "outputs": [],
   "source": [
    "theta_par_array=np.random.uniform(0,2*np.pi,8)\n"
   ]
  },
  {
   "cell_type": "code",
   "execution_count": 20,
   "metadata": {},
   "outputs": [],
   "source": [
    "# We need to define Norm incorporating its computing \n",
    "# Let's call it as the objective now to avoid confusion\n",
    "Phi=random_statevector(2**n_qubits, seed=100).data\n",
    "\n",
    "#Implements the entire cost function on the quantum circuit\n",
    "\n",
    "def Objective_fn(params, layers=None):\n",
    "    ''' \n",
    "     Args:\n",
    "        \n",
    "        params: Parameters are basically the list of thetas \n",
    "     \n",
    "     Returns:\n",
    "        Value of the norm for the set of parameters\n",
    "    '''    \n",
    "\n",
    "    #Since Phi is a constant, we have removed to avoid confusion\n",
    "    #Psi: This is computed in here\n",
    "\n",
    "    #Beginning with single layer\n",
    "    #theta_list_even=[theta_1,theta_2,theta_3,theta_4]\n",
    "\n",
    "    #theta_list_odd=[theta_5,theta_6,theta_7,theta_8]\n",
    "    n_qubits=4\n",
    "    qr = QuantumRegister(n_qubits)\n",
    "    cr = ClassicalRegister(n_qubits)\n",
    "    base_circuit = QuantumCircuit(qr, cr)\n",
    "\n",
    "\n",
    "    base_circuit=Even_block(base_circuit,params[0:n_qubits])\n",
    "\n",
    "    base_circuit=Odd_block(base_circuit,params[n_qubits:2*n_qubits])\n",
    "\n",
    "    backend = Aer.get_backend('statevector_simulator')\n",
    "\n",
    "    job = execute(base_circuit, backend)\n",
    "\n",
    "    result = job.result()\n",
    "    outputstate = result.get_statevector(base_circuit, decimals=3)\n",
    "\n",
    "    #error_list.append(Norm(outputstate, Phi))\n",
    "\n",
    "    return Norm(outputstate, Phi)"
   ]
  },
  {
   "cell_type": "markdown",
   "metadata": {},
   "source": [
    "# Using AQGD (QISKIT)"
   ]
  },
  {
   "cell_type": "code",
   "execution_count": 21,
   "metadata": {},
   "outputs": [],
   "source": [
    "from qiskit.aqua.components.optimizers import AQGD, ADAM\n",
    "#Analytic Quantum Gradient Descent (AQGD) optimizer.\n",
    "#But we might have issues here"
   ]
  },
  {
   "cell_type": "code",
   "execution_count": 22,
   "metadata": {},
   "outputs": [
    {
     "name": "stdout",
     "output_type": "stream",
     "text": [
      "<class 'numpy.ndarray'>\n",
      "[0.43766364 3.52292164 4.28312898 1.44344605]\n"
     ]
    }
   ],
   "source": [
    "print(type(theta_par_array))\n",
    "print(theta_par_array[0:4])"
   ]
  },
  {
   "cell_type": "code",
   "execution_count": 23,
   "metadata": {},
   "outputs": [
    {
     "data": {
      "text/plain": [
       "(array([0.43766364, 3.52292164, 4.28312898, 1.44344605, 1.9226816 ,\n",
       "        9.26526403, 6.72788493, 0.55895468]),\n",
       " 0.6888062142198785,\n",
       " 100)"
      ]
     },
     "execution_count": 23,
     "metadata": {},
     "output_type": "execute_result"
    }
   ],
   "source": [
    "\n",
    "#Note that optimize is a definition of the class i.e. method to be used\n",
    "\n",
    "optimizer_AQGD=AQGD(maxiter=100, eta=3.0, tol=1e-5)\n",
    "\n",
    "\n",
    "optimizer_AQGD.optimize( 8, Objective_fn, initial_point=theta_par_array )\n",
    "    "
   ]
  },
  {
   "cell_type": "markdown",
   "metadata": {},
   "source": [
    "With variable_bounds=None, we get 0.6873086624364559 like we do get further using COBYLA \n",
    "They have no respect for the restrictions on theta. However, since we know we can map back to the original interval, having theta out of the range shouldn't be an issue "
   ]
  },
  {
   "cell_type": "markdown",
   "metadata": {},
   "source": [
    "NEXT UP: variable_bounds!=None i.e. define the bounds , perhaps using bound class "
   ]
  },
  {
   "cell_type": "markdown",
   "metadata": {},
   "source": [
    "# USING COBYLA\n",
    "Scipy's optimization method"
   ]
  },
  {
   "cell_type": "markdown",
   "metadata": {},
   "source": [
    "COBYLA is a numerical optimization method for constrained problems where the derivative of the objective function is not known.\n",
    "\n",
    "There is agreement between the optimizer used in Qiskit i.e. AQGD however bith of these have no respect for bounds. Finally , we are using the default of scipy viz BFGS (Broyden–Fletcher–Goldfarb–Shanno algorithm)"
   ]
  },
  {
   "cell_type": "markdown",
   "metadata": {},
   "source": [
    "ISSUE: We can't give bounds on the theta"
   ]
  },
  {
   "cell_type": "code",
   "execution_count": 24,
   "metadata": {},
   "outputs": [],
   "source": [
    "from scipy.optimize import minimize\n",
    "from scipy import optimize\n",
    "#When the exact differentiations are not known\n",
    "\n",
    "#However, for simple gates as such we might have some hope \n",
    "#Next up: Write up own GD using deriv wrt to the thetas in \n",
    "#In the single q unitary\n"
   ]
  },
  {
   "cell_type": "code",
   "execution_count": 25,
   "metadata": {},
   "outputs": [],
   "source": [
    "\n",
    "out_cobyla=minimize(Objective_fn, x0=theta_par_array, method=\"COBYLA\", options={'maxiter':200})"
   ]
  },
  {
   "cell_type": "code",
   "execution_count": 26,
   "metadata": {},
   "outputs": [
    {
     "name": "stdout",
     "output_type": "stream",
     "text": [
      "     fun: 0.6858358388762158\n",
      "   maxcv: 0.0\n",
      " message: 'Optimization terminated successfully.'\n",
      "    nfev: 171\n",
      "  status: 1\n",
      " success: True\n",
      "       x: array([2.0491419 , 4.71719077, 6.42658205, 2.93200953, 8.36562898,\n",
      "       9.339487  , 6.72797161, 6.84327705])\n"
     ]
    }
   ],
   "source": [
    "print(out_cobyla)"
   ]
  },
  {
   "cell_type": "code",
   "execution_count": 27,
   "metadata": {},
   "outputs": [],
   "source": [
    "# import random\n",
    "# x0=[float(random.randint(0,3000))/1000 for i in range(0, 9)]"
   ]
  },
  {
   "cell_type": "code",
   "execution_count": 28,
   "metadata": {},
   "outputs": [],
   "source": [
    "bnds = [(0., 2*np.pi)]*8\n",
    "\n",
    "x0=theta_par_array\n"
   ]
  },
  {
   "cell_type": "code",
   "execution_count": 29,
   "metadata": {},
   "outputs": [],
   "source": [
    "out=minimize(Objective_fn, x0=theta_par_array, bounds=bnds, options={'maxiter':500}, tol=1e-6)"
   ]
  },
  {
   "cell_type": "code",
   "execution_count": 30,
   "metadata": {},
   "outputs": [
    {
     "name": "stdout",
     "output_type": "stream",
     "text": [
      "      fun: 1.660345312903413\n",
      " hess_inv: <8x8 LbfgsInvHessProduct with dtype=float64>\n",
      "      jac: array([ 0.00000000e+00,  0.00000000e+00,  0.00000000e+00,  0.00000000e+00,\n",
      "       -5.73032292e-02, -6.79309380e+07, -1.74013027e-02, -5.64606143e-02])\n",
      "  message: b'CONVERGENCE: REL_REDUCTION_OF_F_<=_FACTR*EPSMCH'\n",
      "     nfev: 72\n",
      "      nit: 5\n",
      "     njev: 8\n",
      "   status: 0\n",
      "  success: True\n",
      "        x: array([0.43766364, 3.52292164, 4.28312898, 1.44344605, 3.9533546 ,\n",
      "       6.28318531, 5.72793268, 2.58638731])\n"
     ]
    }
   ],
   "source": [
    "print(out)"
   ]
  },
  {
   "cell_type": "markdown",
   "metadata": {},
   "source": [
    "# Explicit GD \n",
    "WARNING: CODE NOT COMPLETE"
   ]
  },
  {
   "cell_type": "markdown",
   "metadata": {},
   "source": [
    "𝑅𝑋(𝜃)=𝑒𝑥𝑝(−𝑖𝜃/2𝑋) <br>\n",
    "𝑅Z(𝜃)=𝑒𝑥𝑝(−𝑖𝜃/2Z) <br>\n",
    "Where X and Z are the Pauli matrices, <br>\n",
    "It will be fun to take the derivatives and then do GD but let's see if we can use built in functions from qiskit\n",
    "(Hunch: Might have to redefine our parameters as belonging to a class)"
   ]
  },
  {
   "cell_type": "markdown",
   "metadata": {},
   "source": [
    "For instance\n",
    "$U_{i}(\\theta_{i})=exp(-i\\frac{\\theta}{2}X)$ <br>\n",
    "The gradient for this single qubit unitary will read as a $-i/2XU_{i}(\\theta_{i})=-i/2U_{i}(\\theta_{i})X$"
   ]
  },
  {
   "cell_type": "markdown",
   "metadata": {},
   "source": [
    "# Multi-layered CIrcuit"
   ]
  },
  {
   "cell_type": "markdown",
   "metadata": {},
   "source": [
    "Using just scipy.optimize.minimize\n",
    "With bounds given, the methods might be \n",
    "\n",
    "If not given, chosen to be one of BFGS, L-BFGS-B, SLSQP, depending if the problem has constraints or bounds."
   ]
  },
  {
   "cell_type": "code",
   "execution_count": 36,
   "metadata": {},
   "outputs": [],
   "source": [
    "def Objective_fn(params, *layers):\n",
    "    ''' \n",
    "     Args:\n",
    "        \n",
    "        params: Parameters are basically the list of thetas \n",
    "     \n",
    "     Returns:\n",
    "        Value of the norm for the set of parameters\n",
    "    '''    \n",
    "\n",
    "    #Since Phi is a constant, we have removed to avoid confusion\n",
    "    #Psi: This is computed in here\n",
    "\n",
    "    #Beginning with single layer\n",
    "    #theta_list_even=[theta_1,theta_2,theta_3,theta_4]\n",
    "\n",
    "    #theta_list_odd=[theta_5,theta_6,theta_7,theta_8]\n",
    "    \n",
    "    if layers==None:\n",
    "        n_qubits=4\n",
    "        qr = QuantumRegister(n_qubits)\n",
    "        cr = ClassicalRegister(n_qubits)\n",
    "        base_circuit = QuantumCircuit(qr, cr)\n",
    "\n",
    "\n",
    "        base_circuit=Even_block(base_circuit,params[0:n_qubits])\n",
    "\n",
    "        base_circuit=Odd_block(base_circuit,params[n_qubits:2*n_qubits])\n",
    "\n",
    "        backend = Aer.get_backend('statevector_simulator')\n",
    "\n",
    "        job = execute(base_circuit, backend)\n",
    "\n",
    "        result = job.result()\n",
    "        outputstate = result.get_statevector(base_circuit, decimals=3)\n",
    "\n",
    "    else:\n",
    "        n_qubits=4\n",
    "        qr = QuantumRegister(n_qubits)\n",
    "        cr = ClassicalRegister(n_qubits)\n",
    "        base_circuit = QuantumCircuit(qr, cr)\n",
    "        \n",
    "        #Since layers would be a tuple\n",
    "        for l in range(layers[0]):\n",
    "            \n",
    "            base_circuit=Even_block(base_circuit,params[n_qubits*l:n_qubits*(l+1)])\n",
    "            base_circuit=Odd_block(base_circuit,params[n_qubits*(l+1):n_qubits*(l+2)])\n",
    "        \n",
    "        backend = Aer.get_backend('statevector_simulator')\n",
    "        job = execute(base_circuit, backend)\n",
    "\n",
    "        result = job.result()\n",
    "        outputstate = result.get_statevector(base_circuit, decimals=3)\n",
    "        \n",
    "    #error_list.append(Norm(outputstate, Phi))\n",
    "\n",
    "    return Norm(outputstate, Phi)"
   ]
  },
  {
   "cell_type": "code",
   "execution_count": 37,
   "metadata": {},
   "outputs": [],
   "source": [
    "Num_layers=2\n",
    "theta_par_array=np.random.uniform(0,2*np.pi,8*Num_layers)\n"
   ]
  },
  {
   "cell_type": "code",
   "execution_count": 38,
   "metadata": {},
   "outputs": [],
   "source": [
    "bnds = [(0., 2*np.pi)]*8*Num_layers\n",
    "\n",
    "x0=theta_par_array\n"
   ]
  },
  {
   "cell_type": "code",
   "execution_count": 39,
   "metadata": {},
   "outputs": [
    {
     "name": "stdout",
     "output_type": "stream",
     "text": [
      "      fun: 0.30995245948439043\n",
      " hess_inv: <16x16 LbfgsInvHessProduct with dtype=float64>\n",
      "      jac: array([ 0.00000000e+00,  0.00000000e+00,  0.00000000e+00,  0.00000000e+00,\n",
      "        1.21881266e-01,  5.31796826e-06,  5.57887073e-06,  1.35447210e-05,\n",
      "        1.66533455e-07,  2.60902412e-06, -5.99549303e-02,  1.30645494e-02,\n",
      "        0.00000000e+00,  0.00000000e+00,  0.00000000e+00,  0.00000000e+00])\n",
      "  message: b'CONVERGENCE: REL_REDUCTION_OF_F_<=_FACTR*EPSMCH'\n",
      "     nfev: 765\n",
      "      nit: 19\n",
      "     njev: 45\n",
      "   status: 0\n",
      "  success: True\n",
      "        x: array([1.25404190e+00, 4.13951719e+00, 7.02814229e-01, 2.00968292e+00,\n",
      "       0.00000000e+00, 9.62829594e-01, 5.52545600e+00, 1.35512158e+00,\n",
      "       2.46519913e+00, 2.16595973e+00, 6.28318529e+00, 4.81988098e-08,\n",
      "       8.21794587e-01, 1.60501589e+00, 8.79665436e-01, 2.87472387e+00])\n"
     ]
    }
   ],
   "source": [
    "out=minimize(Objective_fn, x0=theta_par_array, args=Num_layers,  bounds=bnds, options={'maxiter':500}, tol=1e-6)\n",
    "print(out)"
   ]
  },
  {
   "cell_type": "markdown",
   "metadata": {},
   "source": [
    "# Plotting after varying number of layers\n"
   ]
  },
  {
   "cell_type": "code",
   "execution_count": 40,
   "metadata": {},
   "outputs": [],
   "source": [
    "import matplotlib.pyplot as plt"
   ]
  },
  {
   "cell_type": "code",
   "execution_count": 41,
   "metadata": {},
   "outputs": [
    {
     "name": "stdout",
     "output_type": "stream",
     "text": [
      "0.30995245948439043\n"
     ]
    }
   ],
   "source": [
    "highest_nlayers=\n",
    "#print(out.fun)"
   ]
  },
  {
   "cell_type": "code",
   "execution_count": 44,
   "metadata": {},
   "outputs": [
    {
     "name": "stdout",
     "output_type": "stream",
     "text": [
      "1\n",
      "1.667757725228236\n",
      "2\n",
      "0.4098252201215704\n",
      "3\n",
      "0.31343719784501944\n",
      "4\n",
      "0.23213318112397774\n",
      "5\n",
      "0.5126843724580006\n",
      "6\n",
      "0.07152285391246554\n",
      "7\n",
      "0.13521895040253495\n",
      "8\n",
      "0.00467284809295061\n",
      "9\n",
      "0.0005836230843455712\n"
     ]
    }
   ],
   "source": [
    "min_e=[]\n",
    "list_nlayers=list(range(1,highest_nlayers))\n",
    "for Num_layers in list_nlayers:\n",
    "    print(Num_layers)\n",
    "    theta_par_array=np.random.uniform(0,2*np.pi,8*Num_layers)\n",
    "\n",
    "    bnds = [(0., 2*np.pi)]*8*Num_layers\n",
    "    \n",
    "    out=minimize(Objective_fn, x0=theta_par_array, args=Num_layers,  bounds=bnds, options={'maxiter':500}, tol=1e-6)\n",
    "    print(out.fun)\n",
    "    min_e.append(out.fun)\n",
    "    "
   ]
  },
  {
   "cell_type": "markdown",
   "metadata": {},
   "source": [
    "To note: The number of iterations we run might not be sufficient to optimize over an increased number of parameters due to the increased number of layers. \n",
    "Once has to tune the number of iterations carefully\n",
    "\n",
    "Besides: After the number of layers hit 6, it seems that the entire optimization starts taking long time.\n",
    "Since the computations are more time consuming if in case I can scale up after cleaning the code and eventually run it on the cluster, I might do that "
   ]
  },
  {
   "cell_type": "code",
   "execution_count": 59,
   "metadata": {
    "scrolled": true
   },
   "outputs": [
    {
     "data": {
      "text/plain": [
       "Text(0.5, 1.0, 'Minimized error with number of layers')"
      ]
     },
     "execution_count": 59,
     "metadata": {},
     "output_type": "execute_result"
    },
    {
     "data": {
      "image/png": "[encoded data removed]",
      "text/plain": [
       "<Figure size 432x288 with 1 Axes>"
      ]
     },
     "metadata": {
      "needs_background": "light"
     },
     "output_type": "display_data"
    }
   ],
   "source": [
    "from matplotlib.ticker import MaxNLocator\n",
    "\n",
    "\n",
    "plt.scatter(list_nlayers, min_e)\n",
    "plt.xlabel(\"Number of layers\",)\n",
    "plt.ylabel(\"Minimum error\")\n",
    "plt.title(\"Minimized error with number of layers\")\n",
    "plt.show()"
   ]
  },
  {
   "cell_type": "markdown",
   "metadata": {},
   "source": [
    "For the plot above, we do notice that as we increase the number of layers, the minimum error do decrease as we would expect from providing a large number of variational parameters."
   ]
  },
  {
   "cell_type": "code",
   "execution_count": 60,
   "metadata": {},
   "outputs": [
    {
     "name": "stdout",
     "output_type": "stream",
     "text": [
      "1\n",
      "0.7554607850496968\n",
      "2\n",
      "0.4183540003453945\n",
      "3\n",
      "0.7038745026229984\n",
      "4\n",
      "0.747506623529736\n",
      "5\n",
      "0.06531489616390015\n",
      "6\n",
      "0.03297104051125635\n"
     ]
    }
   ],
   "source": [
    "#Increased number of iterations i.e. 1000 but total layers capped at 8\n",
    "highest_nlayers=8\n",
    "min_e=[]\n",
    "list_nlayers=list(range(1,highest_nlayers))\n",
    "for Num_layers in list_nlayers:\n",
    "    print(Num_layers)\n",
    "    \n",
    "    #The initialization is chosen randomly and does vary as we change number of layers\n",
    "    \n",
    "    theta_par_array=np.random.uniform(0,2*np.pi,8*Num_layers)\n",
    "\n",
    "    bnds = [(0., 2*np.pi)]*8*Num_layers\n",
    "    \n",
    "    out=minimize(Objective_fn, x0=theta_par_array, args=Num_layers,  bounds=bnds, options={'maxiter':1000}, tol=1e-6)\n",
    "    print(out.fun)\n",
    "    min_e.append(out.fun)\n",
    "    "
   ]
  },
  {
   "cell_type": "code",
   "execution_count": 62,
   "metadata": {},
   "outputs": [
    {
     "data": {
      "image/png": "[encoded data removed]",
      "text/plain": [
       "<Figure size 432x288 with 1 Axes>"
      ]
     },
     "metadata": {
      "needs_background": "light"
     },
     "output_type": "display_data"
    }
   ],
   "source": [
    "from matplotlib.ticker import MaxNLocator\n",
    "\n",
    "dd\n",
    "plt.scatter(list_nlayers, min_e)\n",
    "plt.xlabel(\"Number of layers\",)\n",
    "plt.ylabel(\"Minimum error\")\n",
    "plt.title(\"Minimized error with number of layers\")\n",
    "plt.show()\n"
   ]
  },
  {
   "cell_type": "code",
   "execution_count": null,
   "metadata": {},
   "outputs": [],
   "source": []
  }
 ],
 "metadata": {
  "kernelspec": {
   "display_name": "Python 3",
   "language": "python",
   "name": "python3"
  },
  "language_info": {
   "codemirror_mode": {
    "name": "ipython",
    "version": 3
   },
   "file_extension": ".py",
   "mimetype": "text/x-python",
   "name": "python",
   "nbconvert_exporter": "python",
   "pygments_lexer": "ipython3",
   "version": "3.7.7"
  }
 },
 "nbformat": 4,
 "nbformat_minor": 4
}
